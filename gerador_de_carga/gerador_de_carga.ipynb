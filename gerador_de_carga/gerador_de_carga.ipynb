{
 "cells": [
  {
   "cell_type": "code",
   "execution_count": 6,
   "id": "913b8b58",
   "metadata": {},
   "outputs": [],
   "source": [
    "import random as rd"
   ]
  },
  {
   "cell_type": "code",
   "execution_count": 7,
   "id": "53c5eeb7",
   "metadata": {},
   "outputs": [],
   "source": [
    "def gerar_carga(tamanhoTabelaHash, nInsercoes, nPesquisas, nRemocoes, arquivo):\n",
    "    file = open(arquivo, \"w\")\n",
    "    file.write(\"{}\\n\".format(tamanhoTabelaHash))\n",
    "    list = []\n",
    "    for i in range(nInsercoes):\n",
    "        user = rd.randint(0, nInsercoes)\n",
    "        message = rd.randint(0, 2*nInsercoes)\n",
    "        list.append((user, message))\n",
    "        file.write(\"ENTREGA {} {} 1 test{}\\n\".format(user, message, i))\n",
    "    for i in range(nPesquisas):\n",
    "        pair = rd.choice(list)\n",
    "        file.write(\"CONSULTA {} {}\\n\".format(pair[0], pair[1]))\n",
    "    for i in range(nRemocoes):\n",
    "        pair = rd.choice(list)\n",
    "        file.write(\"APAGA {} {}\\n\".format(pair[0], pair[1]))\n",
    "    for i in range(nInsercoes):\n",
    "        user = rd.randint(0, nInsercoes)\n",
    "        message = rd.randint(0, 2*nInsercoes)\n",
    "        list.append((user, message))\n",
    "        file.write(\"ENTREGA {} {} 1 test{}\\n\".format(user, message, i+nInsercoes))\n",
    "    for i in range(nPesquisas):\n",
    "        pair = rd.choice(list)\n",
    "        file.write(\"CONSULTA {} {}\\n\".format(pair[0], pair[1]))\n",
    "    for i in range(nRemocoes):\n",
    "        pair = rd.choice(list)\n",
    "        file.write(\"APAGA {} {}\\n\".format(pair[0], pair[1]))\n",
    "    file.close()\n",
    "    print(\"{} insercoes -> {} pesquisas -> {} remocoes -> {} insercoes -> {} pesquisas -> {} remocoes\".format(nInsercoes, nPesquisas, nRemocoes,nInsercoes, nPesquisas, nRemocoes))"
   ]
  },
  {
   "cell_type": "code",
   "execution_count": 9,
   "id": "507c1174",
   "metadata": {},
   "outputs": [
    {
     "name": "stdout",
     "output_type": "stream",
     "text": [
      "50000 insercoes -> 25000 pesquisas -> 5000 remocoes -> 50000 insercoes -> 25000 pesquisas -> 5000 remocoes\n",
      "100000 insercoes -> 50000 pesquisas -> 10000 remocoes -> 100000 insercoes -> 50000 pesquisas -> 10000 remocoes\n",
      "150000 insercoes -> 75000 pesquisas -> 15000 remocoes -> 150000 insercoes -> 75000 pesquisas -> 15000 remocoes\n",
      "200000 insercoes -> 100000 pesquisas -> 20000 remocoes -> 200000 insercoes -> 100000 pesquisas -> 20000 remocoes\n",
      "250000 insercoes -> 125000 pesquisas -> 25000 remocoes -> 250000 insercoes -> 125000 pesquisas -> 25000 remocoes\n",
      "300000 insercoes -> 150000 pesquisas -> 30000 remocoes -> 300000 insercoes -> 150000 pesquisas -> 30000 remocoes\n",
      "350000 insercoes -> 175000 pesquisas -> 35000 remocoes -> 350000 insercoes -> 175000 pesquisas -> 35000 remocoes\n",
      "400000 insercoes -> 200000 pesquisas -> 40000 remocoes -> 400000 insercoes -> 200000 pesquisas -> 40000 remocoes\n",
      "450000 insercoes -> 225000 pesquisas -> 45000 remocoes -> 450000 insercoes -> 225000 pesquisas -> 45000 remocoes\n",
      "500000 insercoes -> 250000 pesquisas -> 50000 remocoes -> 500000 insercoes -> 250000 pesquisas -> 50000 remocoes\n"
     ]
    }
   ],
   "source": [
    "for i in range(1,11):\n",
    "    gerar_carga(10000, i*50000, i*25000, i*5000, \"test{}.txt\".format(i))"
   ]
  }
 ],
 "metadata": {
  "kernelspec": {
   "display_name": "Python 3 (ipykernel)",
   "language": "python",
   "name": "python3"
  },
  "language_info": {
   "codemirror_mode": {
    "name": "ipython",
    "version": 3
   },
   "file_extension": ".py",
   "mimetype": "text/x-python",
   "name": "python",
   "nbconvert_exporter": "python",
   "pygments_lexer": "ipython3",
   "version": "3.8.10"
  }
 },
 "nbformat": 4,
 "nbformat_minor": 5
}
